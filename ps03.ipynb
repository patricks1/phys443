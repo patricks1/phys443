{
 "cells": [
  {
   "cell_type": "code",
   "execution_count": 1,
   "metadata": {
    "collapsed": true
   },
   "outputs": [],
   "source": [
    "from astropy import units as u\n",
    "from astropy import constants as c\n",
    "\n",
    "import numpy as np"
   ]
  },
  {
   "cell_type": "markdown",
   "metadata": {},
   "source": [
    "## #3"
   ]
  },
  {
   "cell_type": "markdown",
   "metadata": {},
   "source": [
    "### 3.a"
   ]
  },
  {
   "cell_type": "code",
   "execution_count": 13,
   "metadata": {
    "collapsed": false
   },
   "outputs": [
    {
     "name": "stdout",
     "output_type": "stream",
     "text": [
      "1.83169715326e-25 kg / m3\n",
      "312.265912325 km / (Mpc s)\n"
     ]
    },
    {
     "data": {
      "text/latex": [
       "$4.9186042 \\times 10^{9} \\; \\mathrm{yr}$"
      ],
      "text/plain": [
       "<Quantity 4918604207.351077 yr>"
      ]
     },
     "execution_count": 13,
     "metadata": {},
     "output_type": "execute_result"
    }
   ],
   "source": [
    "def tff(H):\n",
    "    t=np.pi/(2*H)\n",
    "    return t.to(u.yr)\n",
    "\n",
    "def a_f(z):\n",
    "    a=1./(1.+z)\n",
    "    return a\n",
    "\n",
    "def H_f(H0,z):\n",
    "    omega_m=0.3\n",
    "    omega_l=0.7\n",
    "    a=a_f(z)\n",
    "    Hz=np.sqrt(H0**2.*((1.-omega_m-omega_l)*a**(-2.)+omega_m*a**(-3.)+omega_l))\n",
    "    #Hz=H0*(1.+z)*np.sqrt(1+omega_m*z)\n",
    "    return Hz\n",
    "\n",
    "H=H_f(70.*u.km/u.s/u.Mpc,3)\n",
    "print (3.*H**2./(8.*np.pi*c.G)).si\n",
    "print H\n",
    "tff(H2)"
   ]
  },
  {
   "cell_type": "markdown",
   "metadata": {},
   "source": [
    "### 3.b"
   ]
  },
  {
   "cell_type": "code",
   "execution_count": 22,
   "metadata": {
    "collapsed": false
   },
   "outputs": [
    {
     "data": {
      "text/plain": [
       "1.672621777e-27"
      ]
     },
     "execution_count": 22,
     "metadata": {},
     "output_type": "execute_result"
    }
   ],
   "source": [
    "u.M_p.to(u.kg)"
   ]
  },
  {
   "cell_type": "code",
   "execution_count": 51,
   "metadata": {
    "collapsed": false
   },
   "outputs": [
    {
     "name": "stdout",
     "output_type": "stream",
     "text": [
      "1.9881e+06 K\n"
     ]
    }
   ],
   "source": [
    "sigma=200.*u.km/u.s\n",
    "mu=16./13.*u.M_p\n",
    "T=mu*sigma**2./(3.*c.k_B)\n",
    "print'{0:0.4e}'.format(T.to(u.K))"
   ]
  },
  {
   "cell_type": "markdown",
   "metadata": {},
   "source": [
    "### 3.c"
   ]
  },
  {
   "cell_type": "code",
   "execution_count": 31,
   "metadata": {
    "collapsed": false
   },
   "outputs": [
    {
     "data": {
      "text/latex": [
       "$1.6843353 \\times 10^{12} \\; \\mathrm{M_{\\odot}}$"
      ],
      "text/plain": [
       "<Quantity 1684335256976.3132 solMass>"
      ]
     },
     "execution_count": 31,
     "metadata": {},
     "output_type": "execute_result"
    }
   ],
   "source": [
    "M200=(2.*sigma**2.)**(3./2.)/(10.*c.G*H)\n",
    "M200.to(u.M_sun)"
   ]
  },
  {
   "cell_type": "code",
   "execution_count": 35,
   "metadata": {
    "collapsed": false
   },
   "outputs": [
    {
     "name": "stdout",
     "output_type": "stream",
     "text": [
      "2.79493016214e+18 km\n"
     ]
    },
    {
     "data": {
      "text/latex": [
       "$90.577518 \\; \\mathrm{kpc}$"
      ],
      "text/plain": [
       "<Quantity 90.57751784974877 kpc>"
      ]
     },
     "execution_count": 35,
     "metadata": {},
     "output_type": "execute_result"
    }
   ],
   "source": [
    "r200=np.sqrt(2.)*sigma/(10.*H)\n",
    "print r200.to(u.km)\n",
    "r200.to(u.kpc)"
   ]
  },
  {
   "cell_type": "markdown",
   "metadata": {},
   "source": [
    "### 3.d"
   ]
  },
  {
   "cell_type": "code",
   "execution_count": 40,
   "metadata": {
    "collapsed": false
   },
   "outputs": [
    {
     "name": "stdout",
     "output_type": "stream",
     "text": [
      "1779.54628773 1 / m3\n"
     ]
    }
   ],
   "source": [
    "n=0.1*3.*M200/(4.*np.pi*r200**3.)/mu\n",
    "print n.si"
   ]
  },
  {
   "cell_type": "code",
   "execution_count": 53,
   "metadata": {
    "collapsed": false
   },
   "outputs": [
    {
     "data": {
      "text/latex": [
       "$1.3806488 \\times 10^{-23} \\; \\mathrm{\\frac{J}{K}}$"
      ],
      "text/plain": [
       "<Constant name=u'Boltzmann constant' value=1.3806488e-23 uncertainty=1.3e-29 unit='J / K' reference=u'CODATA 2010'>"
      ]
     },
     "execution_count": 53,
     "metadata": {},
     "output_type": "execute_result"
    }
   ],
   "source": [
    "c.k_B"
   ]
  },
  {
   "cell_type": "code",
   "execution_count": 73,
   "metadata": {
    "collapsed": false
   },
   "outputs": [
    {
     "name": "stdout",
     "output_type": "stream",
     "text": [
      "3112790.23315 kpc3\n",
      "1.62746171065e+68\n",
      "1.62746171065e+68\n"
     ]
    }
   ],
   "source": [
    "V200=4./3.*np.pi*r200**3.\n",
    "print V200.to(u.kpc**3.)\n",
    "print (n*V200).si\n",
    "print (M200*0.1/mu).si"
   ]
  },
  {
   "cell_type": "code",
   "execution_count": 75,
   "metadata": {
    "collapsed": false
   },
   "outputs": [
    {
     "data": {
      "text/latex": [
       "$6.2984299 \\; \\mathrm{}$"
      ],
      "text/plain": [
       "<Quantity 6.298429894051485>"
      ]
     },
     "execution_count": 75,
     "metadata": {},
     "output_type": "execute_result"
    }
   ],
   "source": [
    "np.log10(T/u.K)"
   ]
  },
  {
   "cell_type": "code",
   "execution_count": 76,
   "metadata": {
    "collapsed": false
   },
   "outputs": [
    {
     "name": "stdout",
     "output_type": "stream",
     "text": [
      "7.91696247546e-29 erg / (cm3 s)\n"
     ]
    },
    {
     "data": {
      "text/latex": [
       "$2.9325884 \\times 10^{8} \\; \\mathrm{yr}$"
      ],
      "text/plain": [
       "<Quantity 293258837.191751 yr>"
      ]
     },
     "execution_count": 76,
     "metadata": {},
     "output_type": "execute_result"
    }
   ],
   "source": [
    "Lambda=2.5e-23*u.erg*u.cm**3./u.s\n",
    "rcool=n**2.*Lambda\n",
    "print rcool.to(u.erg/u.s/u.cm**3.)\n",
    "tcool=3./2.*c.k_B*T/(n*Lambda)\n",
    "tcool.to(u.yr)"
   ]
  }
 ],
 "metadata": {
  "kernelspec": {
   "display_name": "Python 2",
   "language": "python",
   "name": "python2"
  },
  "language_info": {
   "codemirror_mode": {
    "name": "ipython",
    "version": 2
   },
   "file_extension": ".py",
   "mimetype": "text/x-python",
   "name": "python",
   "nbconvert_exporter": "python",
   "pygments_lexer": "ipython2",
   "version": "2.7.13"
  }
 },
 "nbformat": 4,
 "nbformat_minor": 2
}
